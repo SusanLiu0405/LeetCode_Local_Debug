{
 "cells": [
  {
   "cell_type": "code",
   "execution_count": null,
   "id": "ee78c7b3",
   "metadata": {},
   "outputs": [],
   "source": [
    "class Solution:\n",
    "    def orderTraversal(self, root: Optional[TreeNode]) -> List[int]:\n",
    "        if not root:\n",
    "            return []\n",
    "        result = []\n",
    "\t# call different orders here:\n",
    "        self.recursion(root, result)\n",
    "        return result\n",
    "    \n",
    "    def recursion_preorder(self, node: Optional[TreeNode], result: List[int]):\n",
    "        if not node:\n",
    "            return result\n",
    "        result.append(node.val)\n",
    "        self.recursion(node.left, result)\n",
    "        self.recursion(node.right, result)\n",
    "        \n",
    "    def recursion_in_order(self, node: Optional[TreeNode], result: List[int]):\n",
    "        if not node:\n",
    "            return result\n",
    "        self.recursion(node.left, result)\n",
    "        result.append(node.val)\n",
    "        self.recursion(node.right, result)\n",
    "    def recursion_post_order(self, node: Optional[TreeNode], result: List[int]):\n",
    "        if not node:\n",
    "            return result\n",
    "        self.recursion(node.left, result)\n",
    "        self.recursion(node.right, result)\n",
    "\t\tresult.append(node.val)"
   ]
  }
 ],
 "metadata": {
  "kernelspec": {
   "display_name": "Python 3 (ipykernel)",
   "language": "python",
   "name": "python3"
  },
  "language_info": {
   "codemirror_mode": {
    "name": "ipython",
    "version": 3
   },
   "file_extension": ".py",
   "mimetype": "text/x-python",
   "name": "python",
   "nbconvert_exporter": "python",
   "pygments_lexer": "ipython3",
   "version": "3.11.5"
  }
 },
 "nbformat": 4,
 "nbformat_minor": 5
}
