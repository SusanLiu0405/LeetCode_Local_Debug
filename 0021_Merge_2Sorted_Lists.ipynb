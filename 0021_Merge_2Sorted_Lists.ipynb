{
 "cells": [
  {
   "cell_type": "code",
   "execution_count": null,
   "id": "a32845b0",
   "metadata": {},
   "outputs": [],
   "source": [
    "class Solution:\n",
    "    def mergeTwoLists(self, list1: Optional[ListNode], list2: Optional[ListNode]) -> Optional[ListNode]:\n",
    "        dummy = ListNode()\n",
    "        head = dummy\n",
    "        # 链表本身是顺藤摸瓜的结构，只要返回藤的起始就可以得到整条藤的走向\n",
    "        # 因为head在本题中是逐渐向后挪动的 但本题答案返回的是最初的head 所以需要拿一个新的变量储存最初的head\n",
    "        # 最后返回的应该是dummy.next 也就是最前面的空头\n",
    "\n",
    "        # 如果当前 list1和list2 都不为空，那么从小到大排列所有的node\n",
    "        while list1 and list2:\n",
    "            if list1.val <= list2.val:\n",
    "                head.next = list1\n",
    "                list1 = list1.next\n",
    "            else:\n",
    "                head.next = list2\n",
    "                list2 = list2.next\n",
    "            head = head.next\n",
    "        \n",
    "        # 如果list2走完了，那么让head走完list1所有剩余的node\n",
    "        if list1:\n",
    "            head.next = list1\n",
    "        #同理\n",
    "        if list2:\n",
    "            head.next = list2\n",
    "        return dummy.next\n",
    "\n",
    "        "
   ]
  }
 ],
 "metadata": {
  "kernelspec": {
   "display_name": "Python 3 (ipykernel)",
   "language": "python",
   "name": "python3"
  },
  "language_info": {
   "codemirror_mode": {
    "name": "ipython",
    "version": 3
   },
   "file_extension": ".py",
   "mimetype": "text/x-python",
   "name": "python",
   "nbconvert_exporter": "python",
   "pygments_lexer": "ipython3",
   "version": "3.11.5"
  }
 },
 "nbformat": 4,
 "nbformat_minor": 5
}
