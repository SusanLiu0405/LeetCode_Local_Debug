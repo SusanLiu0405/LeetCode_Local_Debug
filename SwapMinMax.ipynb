{
 "cells": [
  {
   "cell_type": "code",
   "execution_count": 1,
   "id": "531f3260",
   "metadata": {},
   "outputs": [
    {
     "name": "stdout",
     "output_type": "stream",
     "text": [
      "请输入数组，用空格分隔：1 2 3 4 5 6\n",
      "[6, 2, 3, 4, 5, 1]\n"
     ]
    }
   ],
   "source": [
    "from typing import List\n",
    "\n",
    "def swapMinAndMax(array: List[int]) -> List[int]:\n",
    "    min = 0\n",
    "    max = 0\n",
    "    for i in range(len(array)):\n",
    "        if array[i] < array[min]:\n",
    "            min = i\n",
    "        if array[i] > array[max]:\n",
    "            max = i\n",
    "    array[min], array[max] = array[max], array[min]\n",
    "    return array\n",
    "\n",
    "# Alternative Solution:\n",
    "# def swapMaxAndMin(nums):\n",
    "#     if not nums or len(nums) < 2:\n",
    "#         return nums\n",
    "\n",
    "#     min_index = nums.index(min(nums))\n",
    "#     max_index = nums.index(max(nums))\n",
    "\n",
    "#     # 交换最大和最小数字\n",
    "#     nums[min_index], nums[max_index] = nums[max_index], nums[min_index]\n",
    "\n",
    "#     return nums\n",
    "\n",
    "input_array = input(\"请输入数组，用空格分隔：\")\n",
    "# 将输入的字符串转换为整数列表\n",
    "array = list(map(int, input_array.split()))\n",
    "print(swapMinAndMax(array))"
   ]
  },
  {
   "cell_type": "code",
   "execution_count": 3,
   "id": "20d2491a",
   "metadata": {},
   "outputs": [
    {
     "name": "stdout",
     "output_type": "stream",
     "text": [
      "请输入行数和列数，用空格分隔：1 2\n",
      "请输入二维数组的元素，每行以空格分隔：\n",
      "2 3\n",
      "[[2, 3]]\n"
     ]
    }
   ],
   "source": [
    "# 从键盘输入数组的维度\n",
    "rows, cols = map(int, input(\"请输入行数和列数，用空格分隔：\").split())\n",
    "\n",
    "# 创建一个空的二维数组\n",
    "array = [[0 for _ in range(cols)] for _ in range(rows)]\n",
    "\n",
    "print(\"请输入二维数组的元素，每行以空格分隔：\")\n",
    "\n",
    "# 从键盘输入二维数组的元素\n",
    "for i in range(rows):\n",
    "    array[i] = list(map(int, input().split()))\n",
    "\n",
    "my_variable = array\n",
    "print(my_variable)\n"
   ]
  },
  {
   "cell_type": "code",
   "execution_count": null,
   "id": "710cb940",
   "metadata": {},
   "outputs": [],
   "source": []
  }
 ],
 "metadata": {
  "kernelspec": {
   "display_name": "Python 3 (ipykernel)",
   "language": "python",
   "name": "python3"
  },
  "language_info": {
   "codemirror_mode": {
    "name": "ipython",
    "version": 3
   },
   "file_extension": ".py",
   "mimetype": "text/x-python",
   "name": "python",
   "nbconvert_exporter": "python",
   "pygments_lexer": "ipython3",
   "version": "3.11.5"
  }
 },
 "nbformat": 4,
 "nbformat_minor": 5
}
