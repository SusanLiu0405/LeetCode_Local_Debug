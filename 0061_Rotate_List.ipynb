{
 "cells": [
  {
   "cell_type": "code",
   "execution_count": null,
   "id": "4c42409e",
   "metadata": {},
   "outputs": [],
   "source": [
    "class Solution:\n",
    "    def rotateRight(self, head: ListNode, k: int) -> ListNode:\n",
    "        # 计算链表的长度\n",
    "        if not head or k == 0:\n",
    "            return head\n",
    "        \n",
    "        length = 1\n",
    "        current = head\n",
    "        while current.next:\n",
    "            current = current.next\n",
    "            length += 1\n",
    "        \n",
    "        # 将链表首尾相连，形成循环链表\n",
    "        current.next = head\n",
    "        \n",
    "        # 计算新的头节点位置\n",
    "        k = k % length\n",
    "        new_tail_index = length - k - 1\n",
    "        new_tail = head\n",
    "        for _ in range(new_tail_index):\n",
    "            new_tail = new_tail.next\n",
    "        \n",
    "        # 断开链表，形成新的链表\n",
    "        new_head = new_tail.next\n",
    "        new_tail.next = None\n",
    "        \n",
    "        return new_head"
   ]
  }
 ],
 "metadata": {
  "kernelspec": {
   "display_name": "Python 3 (ipykernel)",
   "language": "python",
   "name": "python3"
  },
  "language_info": {
   "codemirror_mode": {
    "name": "ipython",
    "version": 3
   },
   "file_extension": ".py",
   "mimetype": "text/x-python",
   "name": "python",
   "nbconvert_exporter": "python",
   "pygments_lexer": "ipython3",
   "version": "3.11.5"
  }
 },
 "nbformat": 4,
 "nbformat_minor": 5
}
