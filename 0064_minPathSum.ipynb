{
 "cells": [
  {
   "cell_type": "code",
   "execution_count": 3,
   "id": "2008a5a4",
   "metadata": {},
   "outputs": [
    {
     "name": "stdout",
     "output_type": "stream",
     "text": [
      "16\n"
     ]
    }
   ],
   "source": [
    "'''\n",
    "\n",
    "Input: grid = [\n",
    "    [1,3,1],\n",
    "    [1,5,1],\n",
    "    [4,2,1]]\n",
    "\n",
    "    [1,4,5],\n",
    "    [2,7,6],\n",
    "    [6,8,7]\n",
    "Output: 7\n",
    "Explanation: Because the path 1 → 3 → 1 → 1 → 1 minimizes the sum.\n",
    "1 1 4 2 1\n",
    "1 1 5 2 1\n",
    "\n",
    "1351421\n",
    "\n",
    "   5\n",
    "'''\n",
    "def get_min_path(matrix): \n",
    "    rows = len(matrix)\n",
    "    cols = len(matrix[0])\n",
    "    for row in range(rows):\n",
    "        for col in range(cols):\n",
    "            min_value = float('inf')\n",
    "            if row > 0:\n",
    "                min_value = min(matrix[row - 1][col], min_value)\n",
    "            if col > 0:\n",
    "                min_value = min(matrix[row][col - 1], min_value)\n",
    "            # print(up, left)\n",
    "            if min_value == float('inf'):\n",
    "                matrix[row][col] = matrix[row][col]\n",
    "            else:\n",
    "                matrix[row][col] += min_value\n",
    "    # print(matrix)\n",
    "    return matrix[rows - 1][cols - 1]\n",
    "\n",
    "input_matrix = [\n",
    "    [0,1,2],\n",
    "    [3,4,5],\n",
    "    [6,7,8]]\n",
    "print(get_min_path(input_matrix))\n",
    "\n",
    "# def get_min_sum_dfs(matrix):\n",
    "#     result = [float('inf')]\n",
    "#     dfs(0, 0, matrix, 0, result)\n",
    "#     return result[0]\n",
    "\n",
    "# def dfs(r, c, matrix, sum, result):\n",
    "#     if r == len(matrix) or c == len(matrix[0]):\n",
    "#         return\n",
    "#     sum += matrix[r][c]\n",
    "\n",
    "#     # reached the bottom right corner:\n",
    "#     if r == len(matrix) - 1 and c == len(matrix[0]) - 1:\n",
    "#         result[0] = min(result[0], sum)\n",
    "#         return\n",
    "\n",
    "#     # go down, go right\n",
    "#     dfs(r + 1, c, matrix, sum, result)\n",
    "#     dfs(r, c + 1, matrix, sum, result)\n",
    "# print(get_min_sum_dfs(input_matrix))\n",
    "\n",
    "\n",
    "\n"
   ]
  },
  {
   "cell_type": "code",
   "execution_count": null,
   "id": "e1e7c640",
   "metadata": {},
   "outputs": [],
   "source": []
  }
 ],
 "metadata": {
  "kernelspec": {
   "display_name": "Python 3 (ipykernel)",
   "language": "python",
   "name": "python3"
  },
  "language_info": {
   "codemirror_mode": {
    "name": "ipython",
    "version": 3
   },
   "file_extension": ".py",
   "mimetype": "text/x-python",
   "name": "python",
   "nbconvert_exporter": "python",
   "pygments_lexer": "ipython3",
   "version": "3.11.5"
  }
 },
 "nbformat": 4,
 "nbformat_minor": 5
}
