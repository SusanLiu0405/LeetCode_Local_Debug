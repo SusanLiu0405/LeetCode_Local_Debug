{
 "cells": [
  {
   "cell_type": "code",
   "execution_count": null,
   "id": "8bd0c057",
   "metadata": {},
   "outputs": [],
   "source": [
    "from typing import List\n",
    "# 求：一个List里能出现的所有排列\n",
    "# 每个排列都必须出现所有数字\n",
    "class Solution:\n",
    "    def permute(self, nums: List[int]) -> List[List[int]]:\n",
    "        nums.sort()\n",
    "        results = []\n",
    "        self.recursion([False] * len(nums), nums, [], results)\n",
    "        return results\n",
    "    \n",
    "    def recursion(self, used, nums, path, results):\n",
    "        if len(path) == len(nums):\n",
    "            results.append(path[:])\n",
    "            return\n",
    "\n",
    "        for i in range(len(nums)):\n",
    "            curr_num = nums[i]\n",
    "            if used[i]:\n",
    "                continue\n",
    "            if i - 1 >= 0 and nums[i - 1] == nums[i] and not used[i - 1]:\n",
    "                continue\n",
    "            path.append(curr_num)\n",
    "            used[i] = True\n",
    "            self.recursion(used, nums, path, results)\n",
    "            used[i] = False\n",
    "            path.pop()\n",
    "    \n",
    "    def permuteUnique(self, nums: List[int]) -> List[List[int]]:\n",
    "        nums.sort()\n",
    "        results = []\n",
    "        self.recursionUnique([False] * len(nums), nums, [], results)\n",
    "        return results\n",
    "    \n",
    "    def recursionUnique(self, used, nums, path, results):\n",
    "        if len(path) == len(nums):\n",
    "            results.append(path[:])\n",
    "            return\n",
    "\n",
    "        for i in range(len(nums)):\n",
    "            curr_num = nums[i]\n",
    "            if used[i]:\n",
    "                continue\n",
    "            if i - 1 >= 0 and nums[i - 1] == nums[i] and not used[i - 1]:\n",
    "                continue\n",
    "            path.append(curr_num)\n",
    "            used[i] = True\n",
    "            self.recursionUnique(used, nums, path, results)\n",
    "            used[i] = False\n",
    "            path.pop()\n"
   ]
  }
 ],
 "metadata": {
  "kernelspec": {
   "display_name": "Python 3 (ipykernel)",
   "language": "python",
   "name": "python3"
  },
  "language_info": {
   "codemirror_mode": {
    "name": "ipython",
    "version": 3
   },
   "file_extension": ".py",
   "mimetype": "text/x-python",
   "name": "python",
   "nbconvert_exporter": "python",
   "pygments_lexer": "ipython3",
   "version": "3.11.5"
  }
 },
 "nbformat": 4,
 "nbformat_minor": 5
}
