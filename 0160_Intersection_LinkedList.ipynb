{
 "cells": [
  {
   "cell_type": "code",
   "execution_count": null,
   "id": "5ac4406d",
   "metadata": {},
   "outputs": [],
   "source": [
    "# 判断两条链表是否相交了\n",
    "class Solution:\n",
    "    def getIntersectionNode(self, headA: ListNode, headB: ListNode) -> Optional[ListNode]:\n",
    "        node_set = set()\n",
    "        # 先走一遍A并且全部加入set，然后走B的时候一个个看谁在set里\n",
    "        while headA:\n",
    "            node_set.add(headA)\n",
    "            headA = headA.next\n",
    "        while headB:\n",
    "            if headB in node_set:\n",
    "                return headB\n",
    "            headB = headB.next\n",
    "\n",
    "        return None"
   ]
  }
 ],
 "metadata": {
  "kernelspec": {
   "display_name": "Python 3 (ipykernel)",
   "language": "python",
   "name": "python3"
  },
  "language_info": {
   "codemirror_mode": {
    "name": "ipython",
    "version": 3
   },
   "file_extension": ".py",
   "mimetype": "text/x-python",
   "name": "python",
   "nbconvert_exporter": "python",
   "pygments_lexer": "ipython3",
   "version": "3.11.5"
  }
 },
 "nbformat": 4,
 "nbformat_minor": 5
}
