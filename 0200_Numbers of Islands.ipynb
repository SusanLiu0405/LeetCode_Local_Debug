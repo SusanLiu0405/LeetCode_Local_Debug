{
 "cells": [
  {
   "cell_type": "code",
   "execution_count": null,
   "id": "9e319215",
   "metadata": {},
   "outputs": [],
   "source": [
    "class Solution:\n",
    "    def numIslands(self, grid: List[List[str]]) -> int:\n",
    "        def dfs(i, j):\n",
    "            if i < 0 or i >= rows or j < 0 or j >= cols or grid[i][j] == '0':\n",
    "                return\n",
    "            grid[i][j] = '0'  # Mark the current island as visited\n",
    "            # Explore the neighboring cells\n",
    "            dfs(i - 1, j)\n",
    "            dfs(i + 1, j)\n",
    "            dfs(i, j - 1)\n",
    "            dfs(i, j + 1)\n",
    "        \n",
    "        rows = len(grid)\n",
    "        cols = len(grid[0])\n",
    "        count = 0\n",
    "        for i in range(rows):\n",
    "            for j in range(cols):\n",
    "                if grid[i][j] == '1':\n",
    "                    dfs(i, j)\n",
    "                    count += 1\n",
    "        return count"
   ]
  }
 ],
 "metadata": {
  "kernelspec": {
   "display_name": "Python 3 (ipykernel)",
   "language": "python",
   "name": "python3"
  },
  "language_info": {
   "codemirror_mode": {
    "name": "ipython",
    "version": 3
   },
   "file_extension": ".py",
   "mimetype": "text/x-python",
   "name": "python",
   "nbconvert_exporter": "python",
   "pygments_lexer": "ipython3",
   "version": "3.11.5"
  }
 },
 "nbformat": 4,
 "nbformat_minor": 5
}
