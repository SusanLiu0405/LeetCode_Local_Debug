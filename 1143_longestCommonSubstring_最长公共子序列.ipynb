{
 "cells": [
  {
   "cell_type": "code",
   "execution_count": 2,
   "id": "3227bf19",
   "metadata": {},
   "outputs": [
    {
     "name": "stdout",
     "output_type": "stream",
     "text": [
      "1\n"
     ]
    }
   ],
   "source": [
    "def longestCommonSubsequence(text1: str, text2: str) -> int:\n",
    "        rows = len(text1)\n",
    "        cols = len(text2)\n",
    "        dp = [[0] * cols for _ in range(rows)]\n",
    "        for i in range(rows):\n",
    "            for j in range(cols):\n",
    "                if text1[i] == text2[j]:\n",
    "                    if i > 0 and j > 0:\n",
    "                        dp[i][j] = dp[i - 1][j - 1] + 1\n",
    "                    else:\n",
    "                        dp[i][j] = 1\n",
    "                else:\n",
    "                    dp[i][j] = max(dp[i][j - 1], dp[i - 1][j])\n",
    "        return dp[rows - 1][cols - 1]\n",
    "text1 = \"abcdjw\"\n",
    "text2 = \"3830v29w\"\n",
    "print(longestCommonSubsequence(text1, text2))"
   ]
  },
  {
   "cell_type": "code",
   "execution_count": null,
   "id": "678a8332",
   "metadata": {},
   "outputs": [],
   "source": []
  }
 ],
 "metadata": {
  "kernelspec": {
   "display_name": "Python 3 (ipykernel)",
   "language": "python",
   "name": "python3"
  },
  "language_info": {
   "codemirror_mode": {
    "name": "ipython",
    "version": 3
   },
   "file_extension": ".py",
   "mimetype": "text/x-python",
   "name": "python",
   "nbconvert_exporter": "python",
   "pygments_lexer": "ipython3",
   "version": "3.11.5"
  }
 },
 "nbformat": 4,
 "nbformat_minor": 5
}
