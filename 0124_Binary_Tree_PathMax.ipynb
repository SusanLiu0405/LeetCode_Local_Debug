{
 "cells": [
  {
   "cell_type": "code",
   "execution_count": null,
   "id": "e9b12857",
   "metadata": {},
   "outputs": [],
   "source": [
    "class Solution:\n",
    "    def maxPathSum(self, root: TreeNode) -> int:\n",
    "        self.max_sum = float('-inf')\n",
    "        self._maxPathSumHelper(root)\n",
    "        return self.max_sum\n",
    "    \n",
    "    def _maxPathSumHelper(self, node):\n",
    "        if not node:\n",
    "            return 0\n",
    "        left_sum = max(0, self._maxPathSumHelper(node.left))\n",
    "        right_sum = max(0, self._maxPathSumHelper(node.right))\n",
    "        self.max_sum = max(self.max_sum, node.val + left_sum + right_sum)\n",
    "        return node.val + max(left_sum, right_sum)\n"
   ]
  }
 ],
 "metadata": {
  "kernelspec": {
   "display_name": "Python 3 (ipykernel)",
   "language": "python",
   "name": "python3"
  },
  "language_info": {
   "codemirror_mode": {
    "name": "ipython",
    "version": 3
   },
   "file_extension": ".py",
   "mimetype": "text/x-python",
   "name": "python",
   "nbconvert_exporter": "python",
   "pygments_lexer": "ipython3",
   "version": "3.11.5"
  }
 },
 "nbformat": 4,
 "nbformat_minor": 5
}
