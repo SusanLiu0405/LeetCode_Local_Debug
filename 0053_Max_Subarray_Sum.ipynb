{
 "cells": [
  {
   "cell_type": "code",
   "execution_count": null,
   "id": "ece40c79",
   "metadata": {},
   "outputs": [],
   "source": [
    "# 求当前数组里的子数组，要求：得到最大的总和，并返回。\n",
    "class Solution:\n",
    "    def maxSubArray(self, nums: List[int]) -> int:\n",
    "        max_sum = nums[0]\n",
    "        curr_sum = nums[0]\n",
    "        for curr in nums[1:]:\n",
    "            curr_sum = max(curr_sum + curr, curr)\n",
    "            max_sum = max(max_sum, curr_sum)\n",
    "        return max_sum\n",
    "            "
   ]
  }
 ],
 "metadata": {
  "kernelspec": {
   "display_name": "Python 3 (ipykernel)",
   "language": "python",
   "name": "python3"
  },
  "language_info": {
   "codemirror_mode": {
    "name": "ipython",
    "version": 3
   },
   "file_extension": ".py",
   "mimetype": "text/x-python",
   "name": "python",
   "nbconvert_exporter": "python",
   "pygments_lexer": "ipython3",
   "version": "3.11.5"
  }
 },
 "nbformat": 4,
 "nbformat_minor": 5
}
