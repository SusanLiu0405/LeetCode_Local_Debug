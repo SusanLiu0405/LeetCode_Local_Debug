{
 "cells": [
  {
   "cell_type": "code",
   "execution_count": null,
   "id": "7d720d5c",
   "metadata": {},
   "outputs": [],
   "source": [
    "# Definition for a binary tree node.\n",
    "# class TreeNode:\n",
    "#     def __init__(self, val=0, left=None, right=None):\n",
    "#         self.val = val\n",
    "#         self.left = left\n",
    "#         self.right = right\n",
    "class Solution:\n",
    "    def binaryTreePaths(self, root: Optional[TreeNode]) -> List[str]:\n",
    "        if not root:\n",
    "            return []\n",
    "        results = []\n",
    "        self.dfs(root, [], results)\n",
    "        return results\n",
    "\n",
    "    def dfs(self, node, path, results):\n",
    "        path.append(node.val)\n",
    "        if not node.left and not node.right:\n",
    "            #叶子结点\n",
    "            self.addPath(path, results)\n",
    "            path.pop()\n",
    "            return\n",
    "        if node.left:\n",
    "            self.dfs(node.left, path, results)\n",
    "        if node.right:\n",
    "            self.dfs(node.right, path, results)\n",
    "        path.pop()\n",
    "        \n",
    "    def addPath(self, path, results):\n",
    "        results.append(\"->\".join([str(i) for i in path]))"
   ]
  }
 ],
 "metadata": {
  "kernelspec": {
   "display_name": "Python 3 (ipykernel)",
   "language": "python",
   "name": "python3"
  },
  "language_info": {
   "codemirror_mode": {
    "name": "ipython",
    "version": 3
   },
   "file_extension": ".py",
   "mimetype": "text/x-python",
   "name": "python",
   "nbconvert_exporter": "python",
   "pygments_lexer": "ipython3",
   "version": "3.11.5"
  }
 },
 "nbformat": 4,
 "nbformat_minor": 5
}
