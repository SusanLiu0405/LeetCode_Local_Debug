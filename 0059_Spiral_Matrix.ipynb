{
 "cells": [
  {
   "cell_type": "code",
   "execution_count": null,
   "id": "fd9f1acf",
   "metadata": {},
   "outputs": [],
   "source": [
    "class Solution:\n",
    "    def generateMatrix(self, n: int) -> List[List[int]]:\n",
    "        outputMatrix = [[0 for _ in range(n)] for _ in range(n)]\n",
    "        step = n * n\n",
    "        top, bottom, left, right = 0, n - 1, 0, n - 1\n",
    "        \n",
    "        if not outputMatrix:\n",
    "            return outputMatrix\n",
    "        # 右下左上跑，跑完就缩圈，剩余单行列，直接遍历完\n",
    "        while top <= bottom and left <= right:\n",
    "            for i in range(left, right + 1):\n",
    "                step -= 1\n",
    "                outputMatrix[top][i] = n * n - step\n",
    "            \n",
    "            for i in range(top + 1, bottom + 1):\n",
    "                step -= 1\n",
    "                outputMatrix[i][right] = n * n - step\n",
    "            \n",
    "            for i in range(right - 1, left - 1, -1):\n",
    "                step -= 1\n",
    "                outputMatrix[bottom][i] = n * n - step\n",
    "            \n",
    "            for i in range(bottom - 1, top, -1):\n",
    "                step -= 1\n",
    "                outputMatrix[i][left] = n * n - step\n",
    "            \n",
    "            top += 1\n",
    "            bottom -= 1\n",
    "            left += 1\n",
    "            right -= 1\n",
    "        \n",
    "        return outputMatrix\n"
   ]
  }
 ],
 "metadata": {
  "kernelspec": {
   "display_name": "Python 3 (ipykernel)",
   "language": "python",
   "name": "python3"
  },
  "language_info": {
   "codemirror_mode": {
    "name": "ipython",
    "version": 3
   },
   "file_extension": ".py",
   "mimetype": "text/x-python",
   "name": "python",
   "nbconvert_exporter": "python",
   "pygments_lexer": "ipython3",
   "version": "3.11.5"
  }
 },
 "nbformat": 4,
 "nbformat_minor": 5
}
