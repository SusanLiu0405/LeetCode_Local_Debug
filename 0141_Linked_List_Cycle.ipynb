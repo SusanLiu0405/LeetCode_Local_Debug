{
 "cells": [
  {
   "cell_type": "code",
   "execution_count": null,
   "id": "3b2b8c09",
   "metadata": {},
   "outputs": [],
   "source": [
    "class Solution:\n",
    "    def hasCycle(self, head: Optional[ListNode]) -> bool:\n",
    "        # Solution 1: 常规解法\n",
    "        # 思路：\n",
    "        # 用set() 储存已经走过的node。走过一个node，就把它放进set。\n",
    "        # 如果发现下一个node已经在set里证明有环\n",
    "\n",
    "        # 新建set：\n",
    "        # node_set = set()\n",
    "\n",
    "        # while head:\n",
    "        #     if head.next in node_set:\n",
    "        #         return True\n",
    "        #     node_set.add(head)\n",
    "        #     head = head.next\n",
    "        # return False\n",
    "\n",
    "        # Solution 2: 快慢指针\n",
    "        # 思路：\n",
    "        # 一个指针step=2，另一个指针step=1\n",
    "        # 如果快指针追上了慢指针说明有环\n",
    "        fast = head\n",
    "        slow = head\n",
    "\n",
    "        while fast and fast.next:\n",
    "            fast = fast.next.next\n",
    "            slow = slow.next\n",
    "            if fast == slow:\n",
    "                return True\n",
    "        return False\n",
    "\n"
   ]
  }
 ],
 "metadata": {
  "kernelspec": {
   "display_name": "Python 3 (ipykernel)",
   "language": "python",
   "name": "python3"
  },
  "language_info": {
   "codemirror_mode": {
    "name": "ipython",
    "version": 3
   },
   "file_extension": ".py",
   "mimetype": "text/x-python",
   "name": "python",
   "nbconvert_exporter": "python",
   "pygments_lexer": "ipython3",
   "version": "3.11.5"
  }
 },
 "nbformat": 4,
 "nbformat_minor": 5
}
