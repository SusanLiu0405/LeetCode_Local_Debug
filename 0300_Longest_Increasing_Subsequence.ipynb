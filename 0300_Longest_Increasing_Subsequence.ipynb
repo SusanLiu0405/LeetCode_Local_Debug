{
 "cells": [
  {
   "cell_type": "code",
   "execution_count": null,
   "id": "cce1bd7d",
   "metadata": {},
   "outputs": [],
   "source": [
    "class Solution:\n",
    "    def lengthOfLIS(self, nums: List[int]) -> int:\n",
    "        dp = [1] * len(nums)\n",
    "        for curr in range(len(nums)):\n",
    "            for before in range(curr):\n",
    "                if nums[before] < nums[curr]:\n",
    "                    dp[curr] = max(dp[curr], dp[before] + 1)\n",
    "        return max(dp)"
   ]
  }
 ],
 "metadata": {
  "kernelspec": {
   "display_name": "Python 3 (ipykernel)",
   "language": "python",
   "name": "python3"
  },
  "language_info": {
   "codemirror_mode": {
    "name": "ipython",
    "version": 3
   },
   "file_extension": ".py",
   "mimetype": "text/x-python",
   "name": "python",
   "nbconvert_exporter": "python",
   "pygments_lexer": "ipython3",
   "version": "3.11.5"
  }
 },
 "nbformat": 4,
 "nbformat_minor": 5
}
