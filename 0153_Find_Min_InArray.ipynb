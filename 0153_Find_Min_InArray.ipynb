{
 "cells": [
  {
   "cell_type": "code",
   "execution_count": null,
   "id": "fca56f4c",
   "metadata": {},
   "outputs": [],
   "source": [
    "# 其实就是二分查找一个list里最小的值，返回就完事\n",
    "class Solution:\n",
    "    def findMin(self, nums: List[int]) -> int:\n",
    "        # return min(nums)\n",
    "        left = 0\n",
    "        right = len(nums) - 1\n",
    "        if nums[right] > nums[left]:\n",
    "            return nums[0]\n",
    "        while left + 1 < right:\n",
    "            mid = (left + right) // 2\n",
    "            if nums[mid] > nums[-1]:\n",
    "                left = mid\n",
    "            else:\n",
    "                right = mid\n",
    "        return min(nums[left], nums[right])"
   ]
  }
 ],
 "metadata": {
  "kernelspec": {
   "display_name": "Python 3 (ipykernel)",
   "language": "python",
   "name": "python3"
  },
  "language_info": {
   "codemirror_mode": {
    "name": "ipython",
    "version": 3
   },
   "file_extension": ".py",
   "mimetype": "text/x-python",
   "name": "python",
   "nbconvert_exporter": "python",
   "pygments_lexer": "ipython3",
   "version": "3.11.5"
  }
 },
 "nbformat": 4,
 "nbformat_minor": 5
}
